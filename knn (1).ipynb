{
 "cells": [
  {
   "cell_type": "code",
   "execution_count": 1,
   "id": "df838dd2",
   "metadata": {},
   "outputs": [],
   "source": [
    "import pandas as pd\n",
    "from sklearn.neighbors import KNeighborsClassifier\n",
    "from sklearn.model_selection import train_test_split\n",
    "from sklearn.svm import SVR\n",
    "from sklearn.pipeline import make_pipeline\n",
    "import matplotlib.pyplot as plt\n",
    "import seaborn as sns"
   ]
  },
  {
   "cell_type": "code",
   "execution_count": 2,
   "id": "1ef318ec",
   "metadata": {},
   "outputs": [],
   "source": [
    "data = pd.read_csv(\"/Users/ks/Downloads/Untitled spreadsheet - Sheet1 (5).csv\")"
   ]
  },
  {
   "cell_type": "code",
   "execution_count": 3,
   "id": "350fc99a",
   "metadata": {},
   "outputs": [
    {
     "data": {
      "text/html": [
       "<div>\n",
       "<style scoped>\n",
       "    .dataframe tbody tr th:only-of-type {\n",
       "        vertical-align: middle;\n",
       "    }\n",
       "\n",
       "    .dataframe tbody tr th {\n",
       "        vertical-align: top;\n",
       "    }\n",
       "\n",
       "    .dataframe thead th {\n",
       "        text-align: right;\n",
       "    }\n",
       "</style>\n",
       "<table border=\"1\" class=\"dataframe\">\n",
       "  <thead>\n",
       "    <tr style=\"text-align: right;\">\n",
       "      <th></th>\n",
       "      <th>Unnamed: 0</th>\n",
       "      <th>Outlook</th>\n",
       "      <th>Humidity</th>\n",
       "      <th>Humidity.1</th>\n",
       "      <th>Windy</th>\n",
       "      <th>Play Golf</th>\n",
       "    </tr>\n",
       "  </thead>\n",
       "  <tbody>\n",
       "    <tr>\n",
       "      <th>0</th>\n",
       "      <td>0</td>\n",
       "      <td>Rainy</td>\n",
       "      <td>Hot</td>\n",
       "      <td>High</td>\n",
       "      <td>False</td>\n",
       "      <td>No</td>\n",
       "    </tr>\n",
       "    <tr>\n",
       "      <th>1</th>\n",
       "      <td>1</td>\n",
       "      <td>Rainy</td>\n",
       "      <td>Hot</td>\n",
       "      <td>High</td>\n",
       "      <td>True</td>\n",
       "      <td>No</td>\n",
       "    </tr>\n",
       "    <tr>\n",
       "      <th>2</th>\n",
       "      <td>2</td>\n",
       "      <td>Overcast</td>\n",
       "      <td>Hot</td>\n",
       "      <td>High</td>\n",
       "      <td>False</td>\n",
       "      <td>Yes</td>\n",
       "    </tr>\n",
       "    <tr>\n",
       "      <th>3</th>\n",
       "      <td>3</td>\n",
       "      <td>Sunny</td>\n",
       "      <td>Mild</td>\n",
       "      <td>High</td>\n",
       "      <td>False</td>\n",
       "      <td>Yes</td>\n",
       "    </tr>\n",
       "    <tr>\n",
       "      <th>4</th>\n",
       "      <td>4</td>\n",
       "      <td>Sunny</td>\n",
       "      <td>Cool</td>\n",
       "      <td>Normal</td>\n",
       "      <td>False</td>\n",
       "      <td>Yes</td>\n",
       "    </tr>\n",
       "  </tbody>\n",
       "</table>\n",
       "</div>"
      ],
      "text/plain": [
       "   Unnamed: 0   Outlook Humidity Humidity.1  Windy Play Golf\n",
       "0           0     Rainy      Hot       High  False        No\n",
       "1           1     Rainy      Hot       High   True        No\n",
       "2           2  Overcast      Hot       High  False       Yes\n",
       "3           3     Sunny     Mild       High  False       Yes\n",
       "4           4     Sunny     Cool     Normal  False       Yes"
      ]
     },
     "execution_count": 3,
     "metadata": {},
     "output_type": "execute_result"
    }
   ],
   "source": [
    "data.head()"
   ]
  },
  {
   "cell_type": "code",
   "execution_count": 4,
   "id": "c429784b",
   "metadata": {},
   "outputs": [
    {
     "ename": "NameError",
     "evalue": "name 'train' is not defined",
     "output_type": "error",
     "traceback": [
      "\u001b[0;31m---------------------------------------------------------------------------\u001b[0m",
      "\u001b[0;31mNameError\u001b[0m                                 Traceback (most recent call last)",
      "\u001b[0;32m/var/folders/xj/gj39qywn7r3bgzkky5txhc5w0000gn/T/ipykernel_5518/4163814973.py\u001b[0m in \u001b[0;36m<module>\u001b[0;34m\u001b[0m\n\u001b[0;32m----> 1\u001b[0;31m \u001b[0mtrainx\u001b[0m\u001b[0;34m,\u001b[0m\u001b[0mtestx\u001b[0m \u001b[0;34m=\u001b[0m \u001b[0mtrain_test_split\u001b[0m\u001b[0;34m(\u001b[0m\u001b[0mtrain\u001b[0m\u001b[0;34m,\u001b[0m\u001b[0mtest_size\u001b[0m \u001b[0;34m=\u001b[0m \u001b[0;36m0.2\u001b[0m\u001b[0;34m)\u001b[0m\u001b[0;34m\u001b[0m\u001b[0;34m\u001b[0m\u001b[0m\n\u001b[0m\u001b[1;32m      2\u001b[0m \u001b[0mtrainy\u001b[0m\u001b[0;34m,\u001b[0m\u001b[0mtesty\u001b[0m \u001b[0;34m=\u001b[0m \u001b[0mtrain_test_split\u001b[0m\u001b[0;34m(\u001b[0m\u001b[0mtest\u001b[0m\u001b[0;34m,\u001b[0m\u001b[0mtest_size\u001b[0m \u001b[0;34m=\u001b[0m \u001b[0;36m0.2\u001b[0m\u001b[0;34m)\u001b[0m\u001b[0;34m\u001b[0m\u001b[0;34m\u001b[0m\u001b[0m\n",
      "\u001b[0;31mNameError\u001b[0m: name 'train' is not defined"
     ]
    }
   ],
   "source": [
    "trainx,testx = train_test_split(train,test_size = 0.2)\n",
    "trainy,testy = train_test_split(test,test_size = 0.2)"
   ]
  },
  {
   "cell_type": "code",
   "execution_count": 28,
   "id": "1c292270",
   "metadata": {},
   "outputs": [
    {
     "name": "stdout",
     "output_type": "stream",
     "text": [
      "Number of mislabeled points out of a total 75 points : 4\n"
     ]
    }
   ],
   "source": [
    "from sklearn.datasets import load_iris\n",
    "from sklearn.model_selection import train_test_split\n",
    "from sklearn.naive_bayes import GaussianNB\n",
    "X, y = load_iris(return_X_y=True)\n",
    "X_train, X_test, y_train, y_test = train_test_split(X, y, test_size=0.5, random_state=0)\n",
    "gnb = GaussianNB()\n",
    "y_pred = gnb.fit(X_train, y_train).predict(X_test)\n",
    "print(\"Number of mislabeled points out of a total %d points : %d\"\n",
    "      % (X_test.shape[0], (y_test != y_pred).sum()))"
   ]
  },
  {
   "cell_type": "code",
   "execution_count": 5,
   "id": "cb188a0c",
   "metadata": {},
   "outputs": [],
   "source": [
    "neigh = KNeighborsClassifier(n_neighbors=5)"
   ]
  },
  {
   "cell_type": "code",
   "execution_count": 6,
   "id": "717eeaa5",
   "metadata": {},
   "outputs": [
    {
     "data": {
      "text/plain": [
       "KNeighborsClassifier()"
      ]
     },
     "execution_count": 6,
     "metadata": {},
     "output_type": "execute_result"
    }
   ],
   "source": [
    "neigh.fit(trainx,trainy)"
   ]
  },
  {
   "cell_type": "code",
   "execution_count": 13,
   "id": "07ed5ff4",
   "metadata": {},
   "outputs": [
    {
     "data": {
      "text/plain": [
       "[0.36666666666666664,\n",
       " 0.26666666666666666,\n",
       " 0.36666666666666664,\n",
       " 0.26666666666666666,\n",
       " 0.3,\n",
       " 0.3,\n",
       " 0.36666666666666664,\n",
       " 0.26666666666666666,\n",
       " 0.3333333333333333,\n",
       " 0.43333333333333335,\n",
       " 0.43333333333333335,\n",
       " 0.36666666666666664,\n",
       " 0.4,\n",
       " 0.3333333333333333,\n",
       " 0.36666666666666664,\n",
       " 0.4,\n",
       " 0.4,\n",
       " 0.4,\n",
       " 0.4,\n",
       " 0.36666666666666664,\n",
       " 0.36666666666666664,\n",
       " 0.4,\n",
       " 0.36666666666666664,\n",
       " 0.3,\n",
       " 0.4,\n",
       " 0.5333333333333333,\n",
       " 0.4,\n",
       " 0.4666666666666667,\n",
       " 0.4666666666666667,\n",
       " 0.4666666666666667,\n",
       " 0.4666666666666667,\n",
       " 0.4666666666666667,\n",
       " 0.43333333333333335,\n",
       " 0.4666666666666667,\n",
       " 0.36666666666666664,\n",
       " 0.5,\n",
       " 0.5,\n",
       " 0.5,\n",
       " 0.5666666666666667,\n",
       " 0.6666666666666666,\n",
       " 0.6333333333333333,\n",
       " 0.5666666666666667,\n",
       " 0.5666666666666667,\n",
       " 0.5666666666666667,\n",
       " 0.6,\n",
       " 0.6,\n",
       " 0.6666666666666666,\n",
       " 0.6666666666666666,\n",
       " 0.6666666666666666,\n",
       " 0.6333333333333333,\n",
       " 0.6666666666666666,\n",
       " 0.6666666666666666,\n",
       " 0.5666666666666667,\n",
       " 0.5333333333333333,\n",
       " 0.5333333333333333,\n",
       " 0.5333333333333333,\n",
       " 0.5333333333333333,\n",
       " 0.5333333333333333,\n",
       " 0.43333333333333335,\n",
       " 0.43333333333333335,\n",
       " 0.43333333333333335,\n",
       " 0.43333333333333335,\n",
       " 0.4,\n",
       " 0.4666666666666667,\n",
       " 0.4,\n",
       " 0.4,\n",
       " 0.4,\n",
       " 0.4666666666666667,\n",
       " 0.4,\n",
       " 0.43333333333333335,\n",
       " 0.4,\n",
       " 0.4666666666666667,\n",
       " 0.26666666666666666,\n",
       " 0.3,\n",
       " 0.3333333333333333,\n",
       " 0.3,\n",
       " 0.3,\n",
       " 0.26666666666666666,\n",
       " 0.26666666666666666,\n",
       " 0.23333333333333334,\n",
       " 0.2,\n",
       " 0.16666666666666666,\n",
       " 0.2,\n",
       " 0.16666666666666666,\n",
       " 0.2,\n",
       " 0.23333333333333334,\n",
       " 0.2,\n",
       " 0.23333333333333334,\n",
       " 0.16666666666666666,\n",
       " 0.2,\n",
       " 0.16666666666666666,\n",
       " 0.2,\n",
       " 0.16666666666666666,\n",
       " 0.13333333333333333,\n",
       " 0.16666666666666666,\n",
       " 0.23333333333333334,\n",
       " 0.4,\n",
       " 0.36666666666666664,\n",
       " 0.3333333333333333,\n",
       " 0.3333333333333333,\n",
       " 0.3333333333333333,\n",
       " 0.4,\n",
       " 0.4666666666666667,\n",
       " 0.4,\n",
       " 0.36666666666666664,\n",
       " 0.4,\n",
       " 0.36666666666666664,\n",
       " 0.36666666666666664,\n",
       " 0.4666666666666667,\n",
       " 0.3333333333333333,\n",
       " 0.4666666666666667,\n",
       " 0.43333333333333335,\n",
       " 0.43333333333333335,\n",
       " 0.43333333333333335,\n",
       " 0.43333333333333335,\n",
       " 0.43333333333333335,\n",
       " 0.43333333333333335,\n",
       " 0.3,\n",
       " 0.3]"
      ]
     },
     "execution_count": 13,
     "metadata": {},
     "output_type": "execute_result"
    }
   ],
   "source": [
    "V = []\n",
    "for i in range(1,len(trainy)):\n",
    "    neigh = KNeighborsClassifier(n_neighbors=i).fit(trainx,trainy)\n",
    "    V.append(neigh.score(testx,testy))\n",
    "V"
   ]
  },
  {
   "cell_type": "code",
   "execution_count": null,
   "id": "3ca0fe8b",
   "metadata": {},
   "outputs": [],
   "source": []
  },
  {
   "cell_type": "code",
   "execution_count": 14,
   "id": "0e91d56d",
   "metadata": {},
   "outputs": [
    {
     "data": {
      "text/plain": [
       "0.3"
      ]
     },
     "execution_count": 14,
     "metadata": {},
     "output_type": "execute_result"
    }
   ],
   "source": [
    "neigh.score(testx,testy)"
   ]
  },
  {
   "cell_type": "code",
   "execution_count": 15,
   "id": "980423a5",
   "metadata": {},
   "outputs": [],
   "source": [
    "train = data.iloc[0:,0:5]\n",
    "test = data.iloc[0:,5]"
   ]
  },
  {
   "cell_type": "code",
   "execution_count": 16,
   "id": "784ac6f6",
   "metadata": {},
   "outputs": [],
   "source": [
    "trainx,testx = train_test_split(train,test_size = 0.2)\n",
    "trainy,testy = train_test_split(test,test_size = 0.2)"
   ]
  },
  {
   "cell_type": "code",
   "execution_count": 17,
   "id": "f7082520",
   "metadata": {},
   "outputs": [],
   "source": [
    "reg = SVR(C=1.0, epsilon=0.2)"
   ]
  },
  {
   "cell_type": "code",
   "execution_count": 18,
   "id": "7ad052e0",
   "metadata": {},
   "outputs": [
    {
     "data": {
      "text/plain": [
       "[<matplotlib.lines.Line2D at 0x7fdda0365fa0>]"
      ]
     },
     "execution_count": 18,
     "metadata": {},
     "output_type": "execute_result"
    },
    {
     "data": {
      "image/png": "[encoded data removed]",
      "text/plain": [
       "<Figure size 432x288 with 1 Axes>"
      ]
     },
     "metadata": {
      "needs_background": "light"
     },
     "output_type": "display_data"
    }
   ],
   "source": [
    "plt.plot(V)"
   ]
  },
  {
   "cell_type": "code",
   "execution_count": null,
   "id": "9de4748b",
   "metadata": {},
   "outputs": [],
   "source": []
  }
 ],
 "metadata": {
  "kernelspec": {
   "display_name": "Python 3 (ipykernel)",
   "language": "python",
   "name": "python3"
  },
  "language_info": {
   "codemirror_mode": {
    "name": "ipython",
    "version": 3
   },
   "file_extension": ".py",
   "mimetype": "text/x-python",
   "name": "python",
   "nbconvert_exporter": "python",
   "pygments_lexer": "ipython3",
   "version": "3.9.7"
  }
 },
 "nbformat": 4,
 "nbformat_minor": 5
}
